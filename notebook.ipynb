{
 "cells": [
  {
   "cell_type": "code",
   "execution_count": 2,
   "metadata": {},
   "outputs": [],
   "source": [
    "import numpy as np\n",
    "from scipy.spatial import KDTree\n"
   ]
  },
  {
   "cell_type": "code",
   "execution_count": 37,
   "metadata": {},
   "outputs": [
    {
     "name": "stdout",
     "output_type": "stream",
     "text": [
      "[[ 0  5]\n",
      " [ 0 14]]\n"
     ]
    }
   ],
   "source": [
    "def nearest_neighbor_distance(X, Y):\n",
    "    \"\"\"\n",
    "    Find the nearest (Euclidean) neighbor in B for each point in Ref\n",
    "    A: Nx2 numpy array of source 2D points\n",
    "    B: Nx2 numpy array of destination 2D point\n",
    "    Returns:\n",
    "    distances: Euclidean distances (errors) of the nearest neighbor\n",
    "    indices: index of the nearest neighbor in B for each point in A\n",
    "    \"\"\"\n",
    "    tree = KDTree(Y)\n",
    "    distances, indices = tree.query(X) ##like we are looping in each point in X map it to Y\n",
    "    return distances, indices\n",
    "\n",
    "\n",
    "\n",
    "\n",
    "X = np.array( [ [0, 1], [0, 10]])\n",
    "Y = np.array(  [[0, 14], [0, 5]])\n",
    "\n",
    "distances, indices = nearest_neighbor_distance(X,Y)\n",
    "\n",
    "Y= Y[indices] #the new mapping\n",
    "\n",
    "print (  Y )     "
   ]
  }
 ],
 "metadata": {
  "kernelspec": {
   "display_name": "nlp",
   "language": "python",
   "name": "python3"
  },
  "language_info": {
   "codemirror_mode": {
    "name": "ipython",
    "version": 3
   },
   "file_extension": ".py",
   "mimetype": "text/x-python",
   "name": "python",
   "nbconvert_exporter": "python",
   "pygments_lexer": "ipython3",
   "version": "3.9.16"
  },
  "orig_nbformat": 4
 },
 "nbformat": 4,
 "nbformat_minor": 2
}
