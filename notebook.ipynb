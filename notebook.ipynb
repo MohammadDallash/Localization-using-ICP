{
 "cells": [
  {
   "cell_type": "code",
   "execution_count": 251,
   "metadata": {},
   "outputs": [],
   "source": [
    "import numpy as np\n",
    "from scipy.spatial import KDTree\n",
    "import matplotlib.pyplot as plt\n"
   ]
  },
  {
   "cell_type": "code",
   "execution_count": 252,
   "metadata": {},
   "outputs": [],
   "source": [
    "def nearest_neighbor_distance(X, Y):\n",
    "    \"\"\"\n",
    "    Find the nearest (Euclidean) neighbor in B for each point in Ref\n",
    "    A: Nx2 numpy array of source 2D points\n",
    "    B: Nx2 numpy array of destination 2D point\n",
    "    Returns:\n",
    "    distances: Euclidean distances (errors) of the nearest neighbor\n",
    "    indices: index of the nearest neighbor in B for each point in A\n",
    "    \"\"\"\n",
    "    tree = KDTree(Y)\n",
    "    distances, indices = tree.query(X) ##like we are looping in each point in X map it to Y\n",
    "    return distances, indices\n"
   ]
  },
  {
   "cell_type": "code",
   "execution_count": 253,
   "metadata": {},
   "outputs": [],
   "source": [
    "def draw(r, b):\n",
    "\n",
    "   fig, ax = plt.subplots(figsize=(6,6))\n",
    "\n",
    "    # Add the points to the plot\n",
    "   ax.scatter(r[:, 0], r[:, 1], color='red', s=3)\n",
    "   ax.scatter(b[:, 0] , b[:, 1], color='blue', s=3)\n",
    "\n",
    "    # Set the x and y axis limits\n",
    "   ax.set_xlim(-15, 15)\n",
    "   ax.set_ylim(-15, 15)\n",
    "\n",
    "    # Set the x and y axis labels\n",
    "   ax.set_xlabel('X Axis')\n",
    "   ax.set_ylabel('Y Axis')\n",
    "\n",
    "    # Add a grid\n",
    "   ax.grid(True)\n",
    "\n",
    "    # Add visible x and y axes\n",
    "   ax.axhline(y=0, color='black', linewidth=0.5)\n",
    "   ax.axvline(x=0, color='black', linewidth=0.5)\n",
    "\n",
    "    # Show the plot\n",
    "   plt.show()\n"
   ]
  },
  {
   "cell_type": "markdown",
   "metadata": {},
   "source": [
    "Create a cloud points in the form of numpy array with size (n,2)"
   ]
  },
  {
   "cell_type": "code",
   "execution_count": 254,
   "metadata": {},
   "outputs": [
    {
     "name": "stdout",
     "output_type": "stream",
     "text": [
      "(225, 2)\n"
     ]
    }
   ],
   "source": [
    "cloud = np.empty((0, 2), dtype = int)\n",
    "Rcloud = cloud\n",
    "size  = 15\n",
    "\n",
    "for j  in range (-size, size+1):\n",
    "    for i  in range (-size, size+1):\n",
    "        if (abs(i) <(size / 2 )and abs(j)<(size/2)):\n",
    "            Rcloud = np.append(Rcloud, [[j,i]], axis=0)   \n",
    "        cloud = np.append(cloud, [[j,i]], axis=0)\n",
    "\n",
    "\n",
    "print(Rcloud.shape)\n"
   ]
  },
  {
   "cell_type": "markdown",
   "metadata": {},
   "source": [
    "Creat a roatated smaller version of that cloud"
   ]
  },
  {
   "cell_type": "code",
   "execution_count": 285,
   "metadata": {},
   "outputs": [
    {
     "name": "stdout",
     "output_type": "stream",
     "text": [
      "[[ 0.96592583 -0.25881905]\n",
      " [ 0.25881905  0.96592583]]\n"
     ]
    }
   ],
   "source": [
    "def rotate (A, theta):\n",
    "    theta = np.deg2rad(theta)  # angle in radians\n",
    "    R30 = np.array([[np.cos(theta), -np.sin(theta)],\n",
    "                [np.sin(theta), np.cos(theta)]])\n",
    "    print(R30)\n",
    "    return np.matmul(R30, A.T).T\n",
    "\n",
    "Rcloud = rotate(Rcloud,15)"
   ]
  },
  {
   "cell_type": "code",
   "execution_count": 286,
   "metadata": {},
   "outputs": [
    {
     "data": {
      "image/png": "[encoded data removed]",
      "text/plain": [
       "<Figure size 600x600 with 1 Axes>"
      ]
     },
     "metadata": {},
     "output_type": "display_data"
    }
   ],
   "source": [
    "draw(cloud, Rcloud)"
   ]
  },
  {
   "cell_type": "markdown",
   "metadata": {},
   "source": [
    "now we start"
   ]
  },
  {
   "cell_type": "code",
   "execution_count": 292,
   "metadata": {},
   "outputs": [],
   "source": [
    "\n",
    "def icp (X, Y, max_iterations=5):\n",
    "\n",
    "    TotalR = np.identity(X.shape[1])\n",
    "    Totalt = np.zeros(shape=(X.shape[1],))\n",
    "    \n",
    "    \n",
    "    for i in range(max_iterations):\n",
    "        distances, indices = nearest_neighbor_distance(X,Y)\n",
    "        Y= Y[indices] #the new mapping\n",
    "\n",
    "        Xo = np.mean(X, axis=0)\n",
    "        Yo = np.mean(Y, axis=0)\n",
    "        \n",
    "\n",
    "        H =  np.matmul((Y-Yo).T, (X-Xo))\n",
    "\n",
    "\n",
    "        U, D, Vt = np.linalg.svd(H)\n",
    "\n",
    "\n",
    "\n",
    "        \n",
    "        R = np.dot(Vt.T, U.T)\n",
    "        \n",
    "        if np.linalg.det(R) < 0:\n",
    "            Vt[1,:] *= -1\n",
    "            R = np.dot(Vt.T, U.T)\n",
    "        \n",
    "        t = Yo - np.matmul( R,Xo)\n",
    "        print(i)\n",
    "        print(R)\n",
    "        TotalR = np.dot(R, TotalR)\n",
    "        print(TotalR)\n",
    "        Totalt = np.dot(R, t) + Totalt\n",
    "\n",
    "       \n",
    "        \n",
    "\n",
    "        X = np.matmul( R,(X-Xo).T).T + Yo\n",
    "        \n",
    "    return TotalR,Totalt,X"
   ]
  },
  {
   "cell_type": "code",
   "execution_count": 295,
   "metadata": {},
   "outputs": [
    {
     "name": "stdout",
     "output_type": "stream",
     "text": [
      "[[ 0.9998477  -0.01745241]\n",
      " [ 0.01745241  0.9998477 ]]\n",
      "0\n",
      "[[ 0.9998477  -0.01745241]\n",
      " [ 0.01745241  0.9998477 ]]\n",
      "[[ 0.9998477  -0.01745241]\n",
      " [ 0.01745241  0.9998477 ]]\n",
      "1\n",
      "[[ 0.99939083 -0.0348995 ]\n",
      " [ 0.0348995   0.99939083]]\n",
      "[[ 0.99862953 -0.05233596]\n",
      " [ 0.05233596  0.99862953]]\n",
      "2\n",
      "[[ 0.99756405 -0.06975647]\n",
      " [ 0.06975647  0.99756405]]\n",
      "[[ 0.99254615 -0.12186934]\n",
      " [ 0.12186934  0.99254615]]\n",
      "3\n",
      "[[ 0.99026807 -0.1391731 ]\n",
      " [ 0.1391731   0.99026807]]\n",
      "[[ 0.96592583 -0.25881905]\n",
      " [ 0.25881905  0.96592583]]\n",
      "4\n",
      "[[ 0.9612617  -0.27563736]\n",
      " [ 0.27563736  0.9612617 ]]\n",
      "[[ 0.8571673  -0.51503807]\n",
      " [ 0.51503807  0.8571673 ]]\n"
     ]
    }
   ],
   "source": [
    "cloud = np.array([[1,1],[-1,-1],[3,3],[-3,-3],[2,2],[-2,-2]])\n",
    "\n",
    "\n",
    "Rcloud = np.array(cloud) \n",
    "\n",
    "\n",
    "\n",
    "Rcloud[:, 0] += 0\n",
    "Rcloud[:, 1] += -0\n",
    "\n",
    "\n",
    "Rcloud = rotate(Rcloud , 1)\n",
    "\n",
    "R, t,X = icp (Rcloud, cloud)\n",
    "\n",
    "\n",
    "\n",
    "\n",
    "\n"
   ]
  },
  {
   "cell_type": "code",
   "execution_count": 296,
   "metadata": {},
   "outputs": [
    {
     "data": {
      "image/png": "[encoded data removed]",
      "text/plain": [
       "<Figure size 600x600 with 1 Axes>"
      ]
     },
     "metadata": {},
     "output_type": "display_data"
    },
    {
     "data": {
      "text/plain": [
       "(6, 2)"
      ]
     },
     "execution_count": 296,
     "metadata": {},
     "output_type": "execute_result"
    }
   ],
   "source": [
    "draw(cloud,X)\n",
    "X.shape"
   ]
  },
  {
   "cell_type": "code",
   "execution_count": null,
   "metadata": {},
   "outputs": [],
   "source": []
  },
  {
   "cell_type": "code",
   "execution_count": null,
   "metadata": {},
   "outputs": [],
   "source": []
  }
 ],
 "metadata": {
  "kernelspec": {
   "display_name": "Python 3.9.13 ('myenv')",
   "language": "python",
   "name": "python3"
  },
  "language_info": {
   "codemirror_mode": {
    "name": "ipython",
    "version": 3
   },
   "file_extension": ".py",
   "mimetype": "text/x-python",
   "name": "python",
   "nbconvert_exporter": "python",
   "pygments_lexer": "ipython3",
   "version": "3.9.13"
  },
  "orig_nbformat": 4,
  "vscode": {
   "interpreter": {
    "hash": "de1e89af3ef8b17e93d79e53c27fdd6267335e03ee420ef3296d6319bf4dd9be"
   }
  }
 },
 "nbformat": 4,
 "nbformat_minor": 2
}
