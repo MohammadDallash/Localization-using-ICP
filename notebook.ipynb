{
 "cells": [
  {
   "cell_type": "code",
   "execution_count": 2,
   "metadata": {},
   "outputs": [],
   "source": [
    "import numpy as np\n",
    "from scipy.spatial import KDTree\n"
   ]
  },
  {
   "cell_type": "code",
   "execution_count": 59,
   "metadata": {},
   "outputs": [
    {
     "name": "stdout",
     "output_type": "stream",
     "text": [
      "[[-1.03527618 -5.41661758]\n",
      " [ 3.86370331  4.76027878]]\n",
      "[[ 0.9976796  -0.06808387]\n",
      " [ 0.06808387  0.9976796 ]]\n"
     ]
    }
   ],
   "source": [
    "def nearest_neighbor_distance(X, Y):\n",
    "    \"\"\"\n",
    "    Find the nearest (Euclidean) neighbor in B for each point in Ref\n",
    "    A: Nx2 numpy array of source 2D points\n",
    "    B: Nx2 numpy array of destination 2D point\n",
    "    Returns:\n",
    "    distances: Euclidean distances (errors) of the nearest neighbor\n",
    "    indices: index of the nearest neighbor in B for each point in A\n",
    "    \"\"\"\n",
    "    tree = KDTree(Y)\n",
    "    distances, indices = tree.query(X) ##like we are looping in each point in X map it to Y\n",
    "    return distances, indices\n",
    "\n",
    "\n",
    "\n",
    "\n",
    "X = np.array( [[0, -4], [4, 6]])\n",
    "\n",
    "\n",
    "\n",
    "theta = np.deg2rad(15)  # angle in radians\n",
    "R30 = np.array([[np.cos(theta), -np.sin(theta)],\n",
    "              [np.sin(theta), np.cos(theta)]])\n",
    "\n",
    "X = np.matmul( R30,X)\n",
    "\n",
    "\n",
    "print (X)\n",
    "\n",
    "\n",
    "\n",
    "Y = np.array(  [[-2, -4], [2, 6]])\n",
    "\n",
    "distances, indices = nearest_neighbor_distance(X,Y)\n",
    "\n",
    "Y= Y[indices] #the new mapping\n",
    "\n",
    "\n",
    "\n",
    "\n",
    "Xo = np.mean(X, axis=0)\n",
    "Yo = np.mean(Y, axis=0)\n",
    "\n",
    "\n",
    "\n",
    "H = np.dot((X-Xo).T, (Y-Yo))\n",
    "U, D, Vt = np.linalg.svd(H)\n",
    "\n",
    "\n",
    "\n",
    "R = np.dot(Vt.T, U.T)\n",
    "t = Yo - np.matmul( R,Xo)\n",
    "\n",
    "\n",
    "print (  R )     "
   ]
  },
  {
   "cell_type": "code",
   "execution_count": 64,
   "metadata": {},
   "outputs": [
    {
     "data": {
      "image/png": "[encoded data removed]",
      "text/plain": [
       "<Figure size 640x480 with 1 Axes>"
      ]
     },
     "metadata": {},
     "output_type": "display_data"
    }
   ],
   "source": [
    "import numpy as np\n",
    "import matplotlib.pyplot as plt\n",
    "\n",
    "# Define 2D array of points\n",
    "points = np.array([[1, 2], [2, 4], [3, 1], [4, 3]])\n",
    "\n",
    "# Create a new plot\n",
    "fig, ax = plt.subplots()\n",
    "\n",
    "# Add the points to the plot\n",
    "ax.scatter(points[:, 0], points[:, 1], color='red')\n",
    "\n",
    "ax.scatter(points[:, 0] +1, points[:, 1], color='blue')\n",
    "\n",
    "# Set the x and y axis limits\n",
    "ax.set_xlim(-15, 15)\n",
    "ax.set_ylim(-15, 15)\n",
    "\n",
    "# Set the x and y axis labels\n",
    "ax.set_xlabel('X Axis')\n",
    "ax.set_ylabel('Y Axis')\n",
    "\n",
    "# Add a grid\n",
    "ax.grid(True)\n",
    "\n",
    "# Add visible x and y axes\n",
    "ax.axhline(y=0, color='black', linewidth=0.5)\n",
    "ax.axvline(x=0, color='black', linewidth=0.5)\n",
    "\n",
    "# Show the plot\n",
    "plt.show()\n"
   ]
  },
  {
   "cell_type": "code",
   "execution_count": null,
   "metadata": {},
   "outputs": [],
   "source": []
  }
 ],
 "metadata": {
  "kernelspec": {
   "display_name": "nlp",
   "language": "python",
   "name": "python3"
  },
  "language_info": {
   "codemirror_mode": {
    "name": "ipython",
    "version": 3
   },
   "file_extension": ".py",
   "mimetype": "text/x-python",
   "name": "python",
   "nbconvert_exporter": "python",
   "pygments_lexer": "ipython3",
   "version": "3.9.16"
  },
  "orig_nbformat": 4
 },
 "nbformat": 4,
 "nbformat_minor": 2
}
